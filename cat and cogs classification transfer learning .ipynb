{
 "cells": [
  {
   "cell_type": "code",
   "execution_count": 1,
   "id": "00b19963",
   "metadata": {},
   "outputs": [],
   "source": [
    "import tensorflow as tf\n"
   ]
  },
  {
   "cell_type": "code",
   "execution_count": 2,
   "id": "93c601f2",
   "metadata": {},
   "outputs": [],
   "source": [
    "from tensorflow.keras.preprocessing.image import ImageDataGenerator\n",
    "from tensorflow.keras import layers\n",
    "from tensorflow.keras import Model\n",
    "from tensorflow.keras.applications.inception_v3 import InceptionV3\n",
    "import os\n",
    "\n",
    "#all teh importing of fiole inception model will be used for transfer leanring "
   ]
  },
  {
   "cell_type": "code",
   "execution_count": 3,
   "id": "c604fcd2",
   "metadata": {},
   "outputs": [],
   "source": [
    "data ='PetImages'"
   ]
  },
  {
   "cell_type": "code",
   "execution_count": 4,
   "id": "3e6d5cde",
   "metadata": {},
   "outputs": [
    {
     "name": "stdout",
     "output_type": "stream",
     "text": [
      "number of images in cats : 12501\n",
      "number of images in dogs : 12501\n"
     ]
    }
   ],
   "source": [
    "print(\"number of images in cats :\",len(os.listdir('tmp/PetImages/Cat/')))\n",
    "print(\"number of images in dogs :\",len(os.listdir('tmp/PetImages/Dog/')))"
   ]
  },
  {
   "cell_type": "code",
   "execution_count": 5,
   "id": "f52fb171",
   "metadata": {},
   "outputs": [],
   "source": [
    "try:\n",
    "    os.mkdir('/tmp/cats-v-dogs')\n",
    "    os.mkdir('/tmp/cats-v-dogs/training')\n",
    "    os.mkdir('/tmp/cats-v-dogs/testing')\n",
    "    os.mkdir('/tmp/cats-v-dogs/training/cats')\n",
    "    os.mkdir('/tmp/cats-v-dogs/training/dogs')\n",
    "    os.mkdir('/tmp/cats-v-dogs/testing/cats')\n",
    "    os.mkdir('/tmp/cats-v-dogs/testing/dogs')\n",
    "except OSError:\n",
    "    pass"
   ]
  },
  {
   "cell_type": "code",
   "execution_count": 29,
   "id": "8ca11ae7",
   "metadata": {},
   "outputs": [],
   "source": [
    "import random\n",
    "from shutil import copyfile\n",
    "def split_data(SOURCE, TRAINING, TESTING, SPLIT_SIZE):\n",
    "    files = []\n",
    "    for filename in os.listdir(SOURCE):\n",
    "        file = SOURCE + filename\n",
    "        if os.path.getsize(file) > 0:\n",
    "            files.append(filename)\n",
    "        else:\n",
    "            print(filename + \" is zero length, so ignoring.\")\n",
    "\n",
    "    training_length = int(len(files) * SPLIT_SIZE)\n",
    "    testing_length = int(len(files) - training_length)\n",
    "    shuffled_set = random.sample(files, len(files))\n",
    "    training_set = shuffled_set[0:training_length]\n",
    "    testing_set = shuffled_set[training_length:]\n",
    "\n",
    "    for filename in training_set:\n",
    "        this_file = SOURCE + filename\n",
    "        destination = TRAINING + filename\n",
    "        copyfile(this_file, destination)\n",
    "\n",
    "    for filename in testing_set:\n",
    "        this_file = SOURCE + filename\n",
    "        destination = TESTING + filename\n",
    "        copyfile(this_file, destination)\n",
    "    \n",
    "    \n",
    " "
   ]
  },
  {
   "cell_type": "code",
   "execution_count": 33,
   "id": "a2e2f037",
   "metadata": {},
   "outputs": [],
   "source": [
    "cat_source=\"tmp/PetImages/Cat/\"\n",
    "dog_source=\"tmp/PetImages/Dog/\"\n",
    "training_cat=\"tmp/cats-v-dogs/training/cats/\"\n",
    "testing__cat=\"tmp/cats-v-dogs/testing/cats/\"\n",
    "\n",
    "training_dogs=\"tmp/cats-v-dogs/training/dogs/\"\n",
    "testing__dogs=\"tmp/cats-v-dogs/testing/dogs/\"\n"
   ]
  },
  {
   "cell_type": "code",
   "execution_count": 34,
   "id": "5ec60ee6",
   "metadata": {},
   "outputs": [
    {
     "name": "stdout",
     "output_type": "stream",
     "text": [
      "666.jpg is zero length, so ignoring.\n"
     ]
    }
   ],
   "source": [
    "split_size=.9\n",
    "split_data(cat_source,training_cat,testing__cat,split_size)"
   ]
  },
  {
   "cell_type": "code",
   "execution_count": 35,
   "id": "b25ef7c5",
   "metadata": {},
   "outputs": [
    {
     "name": "stdout",
     "output_type": "stream",
     "text": [
      "11702.jpg is zero length, so ignoring.\n"
     ]
    }
   ],
   "source": [
    "split_data(dog_source,training_dogs,testing__dogs,split_size)"
   ]
  },
  {
   "cell_type": "code",
   "execution_count": 36,
   "id": "0226abc8",
   "metadata": {},
   "outputs": [
    {
     "name": "stdout",
     "output_type": "stream",
     "text": [
      "training length of cat 12357\n",
      "testing length of cat 2357\n",
      "training length of dogs 11250\n",
      "testing length dogs 1250\n"
     ]
    }
   ],
   "source": [
    "print(\"training length of cat\",len(os.listdir(training_cat)))\n",
    "print(\"testing length of cat\",len(os.listdir(testing__cat)))\n",
    "\n",
    "print(\"training length of dogs\",len(os.listdir(training_dogs)))\n",
    "print(\"testing length dogs\",len(os.listdir(testing__dogs)))"
   ]
  },
  {
   "cell_type": "code",
   "execution_count": 37,
   "id": "520f0f94",
   "metadata": {},
   "outputs": [
    {
     "name": "stdout",
     "output_type": "stream",
     "text": [
      "Found 23605 images belonging to 2 classes.\n",
      "Found 3607 images belonging to 2 classes.\n"
     ]
    }
   ],
   "source": [
    "\n",
    "# Image pe Data augmentation laga rhay hain\n",
    "\n",
    "\n",
    "\n",
    "Training_dir=\"tmp/cats-v-dogs/training/\"\n",
    "train_datagen=ImageDataGenerator(rescale=1./255,\n",
    "      rotation_range=40,\n",
    "      width_shift_range=0.2,\n",
    "      height_shift_range=0.2,\n",
    "      shear_range=0.2,\n",
    "      zoom_range=0.2,\n",
    "      horizontal_flip=True,\n",
    "      fill_mode='nearest')\n",
    "\n",
    "\n",
    "train_generator = train_datagen.flow_from_directory(Training_dir,\n",
    "                                                    batch_size=100,\n",
    "                                                    class_mode='binary',\n",
    "                                                    target_size=(150, 150))\n",
    "VALIDATION_DIR = \"/tmp/cats-v-dogs/testing/\"\n",
    "validation_datagen = ImageDataGenerator(rescale=1./255)\n",
    "validation_generator = validation_datagen.flow_from_directory(VALIDATION_DIR,\n",
    "                                                              batch_size=100,\n",
    "                                                              class_mode='binary',\n",
    "                                                              target_size=(150, 150))"
   ]
  },
  {
   "cell_type": "code",
   "execution_count": 39,
   "id": "023866d3",
   "metadata": {},
   "outputs": [
    {
     "data": {
      "text/plain": [
       "('inception_v3.h5', <http.client.HTTPMessage at 0x17ac6ceb550>)"
      ]
     },
     "execution_count": 39,
     "metadata": {},
     "output_type": "execute_result"
    }
   ],
   "source": [
    "import urllib.request\n",
    "#downloading Model Inception weightsd\n",
    "weights_url = \"https://storage.googleapis.com/mledu-datasets/inception_v3_weights_tf_dim_ordering_tf_kernels_notop.h5\"\n",
    "weights_file = \"inception_v3.h5\"\n",
    "urllib.request.urlretrieve(weights_url, weights_file)"
   ]
  },
  {
   "cell_type": "code",
   "execution_count": 40,
   "id": "c425b85f",
   "metadata": {},
   "outputs": [
    {
     "name": "stdout",
     "output_type": "stream",
     "text": [
      "<keras.engine.input_layer.InputLayer object at 0x0000017AC6CE8CA0>\n",
      "<keras.layers.convolutional.conv2d.Conv2D object at 0x0000017AC6D43010>\n",
      "<keras.layers.normalization.batch_normalization.BatchNormalization object at 0x0000017AC6D43D00>\n",
      "<keras.layers.core.activation.Activation object at 0x0000017AC6CEAE00>\n",
      "<keras.layers.convolutional.conv2d.Conv2D object at 0x0000017AC6D54430>\n",
      "<keras.layers.normalization.batch_normalization.BatchNormalization object at 0x0000017AC6D6AD10>\n",
      "<keras.layers.core.activation.Activation object at 0x0000017AC6D6B7F0>\n",
      "<keras.layers.convolutional.conv2d.Conv2D object at 0x0000017AC6D6BD30>\n",
      "<keras.layers.normalization.batch_normalization.BatchNormalization object at 0x0000017AC768CEE0>\n",
      "<keras.layers.core.activation.Activation object at 0x0000017AC6D69F90>\n",
      "<keras.layers.pooling.max_pooling2d.MaxPooling2D object at 0x0000017AC768E8F0>\n",
      "<keras.layers.convolutional.conv2d.Conv2D object at 0x0000017AC768DF00>\n",
      "<keras.layers.normalization.batch_normalization.BatchNormalization object at 0x0000017AC768F9D0>\n",
      "<keras.layers.core.activation.Activation object at 0x0000017AC768FAF0>\n",
      "<keras.layers.convolutional.conv2d.Conv2D object at 0x0000017AC768FD30>\n",
      "<keras.layers.normalization.batch_normalization.BatchNormalization object at 0x0000017AC7695810>\n",
      "<keras.layers.core.activation.Activation object at 0x0000017AC76962F0>\n",
      "<keras.layers.pooling.max_pooling2d.MaxPooling2D object at 0x0000017AC7696B90>\n",
      "<keras.layers.convolutional.conv2d.Conv2D object at 0x0000017AC76B51E0>\n",
      "<keras.layers.normalization.batch_normalization.BatchNormalization object at 0x0000017AC76B6470>\n",
      "<keras.layers.core.activation.Activation object at 0x0000017AC76B6F50>\n",
      "<keras.layers.convolutional.conv2d.Conv2D object at 0x0000017AC76A0700>\n",
      "<keras.layers.convolutional.conv2d.Conv2D object at 0x0000017AC76B7970>\n",
      "<keras.layers.normalization.batch_normalization.BatchNormalization object at 0x0000017AC76A2110>\n",
      "<keras.layers.normalization.batch_normalization.BatchNormalization object at 0x0000017AC76C04F0>\n",
      "<keras.layers.core.activation.Activation object at 0x0000017AC76A2BF0>\n",
      "<keras.layers.core.activation.Activation object at 0x0000017AC76B73D0>\n",
      "<keras.layers.pooling.average_pooling2d.AveragePooling2D object at 0x0000017AC76C3B80>\n",
      "<keras.layers.convolutional.conv2d.Conv2D object at 0x0000017AC7697610>\n",
      "<keras.layers.convolutional.conv2d.Conv2D object at 0x0000017AC76A3610>\n",
      "<keras.layers.convolutional.conv2d.Conv2D object at 0x0000017AC76C1A50>\n",
      "<keras.layers.convolutional.conv2d.Conv2D object at 0x0000017AC76C1390>\n",
      "<keras.layers.normalization.batch_normalization.BatchNormalization object at 0x0000017AC76A02B0>\n",
      "<keras.layers.normalization.batch_normalization.BatchNormalization object at 0x0000017AC76B4250>\n",
      "<keras.layers.normalization.batch_normalization.BatchNormalization object at 0x0000017AC76C0850>\n",
      "<keras.layers.normalization.batch_normalization.BatchNormalization object at 0x0000017AC76B7910>\n",
      "<keras.layers.core.activation.Activation object at 0x0000017AC7697880>\n",
      "<keras.layers.core.activation.Activation object at 0x0000017AC76A34C0>\n",
      "<keras.layers.core.activation.Activation object at 0x0000017AC76C32B0>\n",
      "<keras.layers.core.activation.Activation object at 0x0000017AC76A39A0>\n",
      "<keras.layers.merging.concatenate.Concatenate object at 0x0000017AC76A1DE0>\n",
      "<keras.layers.convolutional.conv2d.Conv2D object at 0x0000017AC76D5180>\n",
      "<keras.layers.normalization.batch_normalization.BatchNormalization object at 0x0000017AC76D66B0>\n",
      "<keras.layers.core.activation.Activation object at 0x0000017AC76D60B0>\n",
      "<keras.layers.convolutional.conv2d.Conv2D object at 0x0000017AC76B5990>\n",
      "<keras.layers.convolutional.conv2d.Conv2D object at 0x0000017AC76DD930>\n",
      "<keras.layers.normalization.batch_normalization.BatchNormalization object at 0x0000017AC6D6A590>\n",
      "<keras.layers.normalization.batch_normalization.BatchNormalization object at 0x0000017AC76DE9E0>\n",
      "<keras.layers.core.activation.Activation object at 0x0000017AC6D6AF20>\n",
      "<keras.layers.core.activation.Activation object at 0x0000017AC76DF4C0>\n",
      "<keras.layers.pooling.average_pooling2d.AveragePooling2D object at 0x0000017AC76E9330>\n",
      "<keras.layers.convolutional.conv2d.Conv2D object at 0x0000017AC76C26B0>\n",
      "<keras.layers.convolutional.conv2d.Conv2D object at 0x0000017AC76D5C90>\n",
      "<keras.layers.convolutional.conv2d.Conv2D object at 0x0000017AC76DCE50>\n",
      "<keras.layers.convolutional.conv2d.Conv2D object at 0x0000017AC76EA350>\n",
      "<keras.layers.normalization.batch_normalization.BatchNormalization object at 0x0000017AC768EC20>\n",
      "<keras.layers.normalization.batch_normalization.BatchNormalization object at 0x0000017AC76D6C50>\n",
      "<keras.layers.normalization.batch_normalization.BatchNormalization object at 0x0000017AC76DE410>\n",
      "<keras.layers.normalization.batch_normalization.BatchNormalization object at 0x0000017AC76EAFB0>\n",
      "<keras.layers.core.activation.Activation object at 0x0000017AC768E230>\n",
      "<keras.layers.core.activation.Activation object at 0x0000017AC76D76A0>\n",
      "<keras.layers.core.activation.Activation object at 0x0000017AC76DFF40>\n",
      "<keras.layers.core.activation.Activation object at 0x0000017AC76EA110>\n",
      "<keras.layers.merging.concatenate.Concatenate object at 0x0000017AC76E8CA0>\n",
      "<keras.layers.convolutional.conv2d.Conv2D object at 0x0000017AC7705CC0>\n",
      "<keras.layers.normalization.batch_normalization.BatchNormalization object at 0x0000017AC76FB190>\n",
      "<keras.layers.core.activation.Activation object at 0x0000017AC76F9660>\n",
      "<keras.layers.convolutional.conv2d.Conv2D object at 0x0000017AC76F99F0>\n",
      "<keras.layers.convolutional.conv2d.Conv2D object at 0x0000017AC76EA5F0>\n",
      "<keras.layers.normalization.batch_normalization.BatchNormalization object at 0x0000017AC76FAEF0>\n",
      "<keras.layers.normalization.batch_normalization.BatchNormalization object at 0x0000017AC768CAC0>\n",
      "<keras.layers.core.activation.Activation object at 0x0000017AC76F8310>\n",
      "<keras.layers.core.activation.Activation object at 0x0000017AC6D6A680>\n",
      "<keras.layers.pooling.average_pooling2d.AveragePooling2D object at 0x0000017AC7706650>\n",
      "<keras.layers.convolutional.conv2d.Conv2D object at 0x0000017AC76F8520>\n",
      "<keras.layers.convolutional.conv2d.Conv2D object at 0x0000017AC76FB850>\n",
      "<keras.layers.convolutional.conv2d.Conv2D object at 0x0000017AC76DEC20>\n",
      "<keras.layers.convolutional.conv2d.Conv2D object at 0x0000017AC7706F80>\n",
      "<keras.layers.normalization.batch_normalization.BatchNormalization object at 0x0000017AC76E8550>\n",
      "<keras.layers.normalization.batch_normalization.BatchNormalization object at 0x0000017AC76F8430>\n",
      "<keras.layers.normalization.batch_normalization.BatchNormalization object at 0x0000017AC77066B0>\n",
      "<keras.layers.normalization.batch_normalization.BatchNormalization object at 0x0000017AC7707190>\n",
      "<keras.layers.core.activation.Activation object at 0x0000017AC76E94B0>\n",
      "<keras.layers.core.activation.Activation object at 0x0000017AC76FA6E0>\n",
      "<keras.layers.core.activation.Activation object at 0x0000017AC7707C10>\n",
      "<keras.layers.core.activation.Activation object at 0x0000017AC7711660>\n",
      "<keras.layers.merging.concatenate.Concatenate object at 0x0000017AC7710B20>\n",
      "<keras.layers.convolutional.conv2d.Conv2D object at 0x0000017AC77109A0>\n",
      "<keras.layers.normalization.batch_normalization.BatchNormalization object at 0x0000017AC7710910>\n",
      "<keras.layers.core.activation.Activation object at 0x0000017AC7719360>\n",
      "<keras.layers.convolutional.conv2d.Conv2D object at 0x0000017AC771A260>\n",
      "<keras.layers.normalization.batch_normalization.BatchNormalization object at 0x0000017AC771B760>\n",
      "<keras.layers.core.activation.Activation object at 0x0000017AC771ABF0>\n",
      "<keras.layers.convolutional.conv2d.Conv2D object at 0x0000017AC7712EC0>\n",
      "<keras.layers.convolutional.conv2d.Conv2D object at 0x0000017AC7718AF0>\n",
      "<keras.layers.normalization.batch_normalization.BatchNormalization object at 0x0000017AC7713F70>\n",
      "<keras.layers.normalization.batch_normalization.BatchNormalization object at 0x0000017AC771B250>\n",
      "<keras.layers.core.activation.Activation object at 0x0000017AC7712F80>\n",
      "<keras.layers.core.activation.Activation object at 0x0000017AC772CF40>\n",
      "<keras.layers.pooling.max_pooling2d.MaxPooling2D object at 0x0000017AC772E5C0>\n",
      "<keras.layers.merging.concatenate.Concatenate object at 0x0000017AC772F0D0>\n",
      "<keras.layers.convolutional.conv2d.Conv2D object at 0x0000017AC7744280>\n",
      "<keras.layers.normalization.batch_normalization.BatchNormalization object at 0x0000017AC7747970>\n",
      "<keras.layers.core.activation.Activation object at 0x0000017AC7747070>\n",
      "<keras.layers.convolutional.conv2d.Conv2D object at 0x0000017AC77464D0>\n",
      "<keras.layers.normalization.batch_normalization.BatchNormalization object at 0x0000017AC771BAC0>\n",
      "<keras.layers.core.activation.Activation object at 0x0000017AC7719090>\n",
      "<keras.layers.convolutional.conv2d.Conv2D object at 0x0000017AC7738DC0>\n",
      "<keras.layers.convolutional.conv2d.Conv2D object at 0x0000017AC772EB60>\n",
      "<keras.layers.normalization.batch_normalization.BatchNormalization object at 0x0000017AC772ECE0>\n",
      "<keras.layers.normalization.batch_normalization.BatchNormalization object at 0x0000017AC7739900>\n",
      "<keras.layers.core.activation.Activation object at 0x0000017AC7739EA0>\n",
      "<keras.layers.core.activation.Activation object at 0x0000017AC76A3550>\n",
      "<keras.layers.convolutional.conv2d.Conv2D object at 0x0000017AC773A770>\n",
      "<keras.layers.convolutional.conv2d.Conv2D object at 0x0000017AC77589A0>\n",
      "<keras.layers.normalization.batch_normalization.BatchNormalization object at 0x0000017AC773BC70>\n",
      "<keras.layers.normalization.batch_normalization.BatchNormalization object at 0x0000017AC7713130>\n",
      "<keras.layers.core.activation.Activation object at 0x0000017AC773B4C0>\n",
      "<keras.layers.core.activation.Activation object at 0x0000017AC775AB90>\n",
      "<keras.layers.pooling.average_pooling2d.AveragePooling2D object at 0x0000017AC87305E0>\n",
      "<keras.layers.convolutional.conv2d.Conv2D object at 0x0000017AC772F970>\n",
      "<keras.layers.convolutional.conv2d.Conv2D object at 0x0000017AC7744610>\n",
      "<keras.layers.convolutional.conv2d.Conv2D object at 0x0000017AC7758730>\n",
      "<keras.layers.convolutional.conv2d.Conv2D object at 0x0000017AC8731A80>\n",
      "<keras.layers.normalization.batch_normalization.BatchNormalization object at 0x0000017AC772EAA0>\n",
      "<keras.layers.normalization.batch_normalization.BatchNormalization object at 0x0000017AC773BA60>\n",
      "<keras.layers.normalization.batch_normalization.BatchNormalization object at 0x0000017AC775BF70>\n",
      "<keras.layers.normalization.batch_normalization.BatchNormalization object at 0x0000017AC8732290>\n",
      "<keras.layers.core.activation.Activation object at 0x0000017AC772EBC0>\n",
      "<keras.layers.core.activation.Activation object at 0x0000017AC7746590>\n",
      "<keras.layers.core.activation.Activation object at 0x0000017AC775B6D0>\n",
      "<keras.layers.core.activation.Activation object at 0x0000017AC8731D20>\n",
      "<keras.layers.merging.concatenate.Concatenate object at 0x0000017AC8731300>\n",
      "<keras.layers.convolutional.conv2d.Conv2D object at 0x0000017AC8759E70>\n",
      "<keras.layers.normalization.batch_normalization.BatchNormalization object at 0x0000017AC875BAF0>\n",
      "<keras.layers.core.activation.Activation object at 0x0000017AC8759570>\n",
      "<keras.layers.convolutional.conv2d.Conv2D object at 0x0000017AC87748E0>\n",
      "<keras.layers.normalization.batch_normalization.BatchNormalization object at 0x0000017AC875B520>\n",
      "<keras.layers.core.activation.Activation object at 0x0000017AC6CEA2F0>\n",
      "<keras.layers.convolutional.conv2d.Conv2D object at 0x0000017AC8745150>\n",
      "<keras.layers.convolutional.conv2d.Conv2D object at 0x0000017AC8776E90>\n",
      "<keras.layers.normalization.batch_normalization.BatchNormalization object at 0x0000017AC8746650>\n",
      "<keras.layers.normalization.batch_normalization.BatchNormalization object at 0x0000017AC8775D50>\n",
      "<keras.layers.core.activation.Activation object at 0x0000017AC8745900>\n",
      "<keras.layers.core.activation.Activation object at 0x0000017AC8777B80>\n",
      "<keras.layers.convolutional.conv2d.Conv2D object at 0x0000017AC8746FB0>\n",
      "<keras.layers.convolutional.conv2d.Conv2D object at 0x0000017AC8777850>\n",
      "<keras.layers.normalization.batch_normalization.BatchNormalization object at 0x0000017AC8747DF0>\n",
      "<keras.layers.normalization.batch_normalization.BatchNormalization object at 0x0000017AC875A530>\n",
      "<keras.layers.core.activation.Activation object at 0x0000017AC8745BD0>\n",
      "<keras.layers.core.activation.Activation object at 0x0000017AC8745DB0>\n",
      "<keras.layers.pooling.average_pooling2d.AveragePooling2D object at 0x0000017AC772D840>\n",
      "<keras.layers.convolutional.conv2d.Conv2D object at 0x0000017AC8733BE0>\n",
      "<keras.layers.convolutional.conv2d.Conv2D object at 0x0000017AC87590C0>\n",
      "<keras.layers.convolutional.conv2d.Conv2D object at 0x0000017AC8745AE0>\n",
      "<keras.layers.convolutional.conv2d.Conv2D object at 0x0000017AC772FD00>\n",
      "<keras.layers.normalization.batch_normalization.BatchNormalization object at 0x0000017AC87336A0>\n",
      "<keras.layers.normalization.batch_normalization.BatchNormalization object at 0x0000017AC8759C30>\n",
      "<keras.layers.normalization.batch_normalization.BatchNormalization object at 0x0000017AC87300A0>\n",
      "<keras.layers.normalization.batch_normalization.BatchNormalization object at 0x0000017AC8746EF0>\n",
      "<keras.layers.core.activation.Activation object at 0x0000017AC8733A90>\n",
      "<keras.layers.core.activation.Activation object at 0x0000017AC875AEF0>\n",
      "<keras.layers.core.activation.Activation object at 0x0000017AC8777400>\n",
      "<keras.layers.core.activation.Activation object at 0x0000017AC77584C0>\n",
      "<keras.layers.merging.concatenate.Concatenate object at 0x0000017AC8730400>\n",
      "<keras.layers.convolutional.conv2d.Conv2D object at 0x0000017AC87A7550>\n",
      "<keras.layers.normalization.batch_normalization.BatchNormalization object at 0x0000017AC87C4EB0>\n",
      "<keras.layers.core.activation.Activation object at 0x0000017AC87C7070>\n",
      "<keras.layers.convolutional.conv2d.Conv2D object at 0x0000017AC87C66B0>\n",
      "<keras.layers.normalization.batch_normalization.BatchNormalization object at 0x0000017AC87C7010>\n",
      "<keras.layers.core.activation.Activation object at 0x0000017AC87C5E40>\n",
      "<keras.layers.convolutional.conv2d.Conv2D object at 0x0000017AC8793BB0>\n",
      "<keras.layers.convolutional.conv2d.Conv2D object at 0x0000017AC87C7A30>\n",
      "<keras.layers.normalization.batch_normalization.BatchNormalization object at 0x0000017AC8790AC0>\n",
      "<keras.layers.normalization.batch_normalization.BatchNormalization object at 0x0000017AC87E0970>\n",
      "<keras.layers.core.activation.Activation object at 0x0000017AC8793640>\n",
      "<keras.layers.core.activation.Activation object at 0x0000017AC87C6860>\n",
      "<keras.layers.convolutional.conv2d.Conv2D object at 0x0000017AC87936D0>\n",
      "<keras.layers.convolutional.conv2d.Conv2D object at 0x0000017AC87E16F0>\n",
      "<keras.layers.normalization.batch_normalization.BatchNormalization object at 0x0000017AC87A4700>\n",
      "<keras.layers.normalization.batch_normalization.BatchNormalization object at 0x0000017AC87E25C0>\n",
      "<keras.layers.core.activation.Activation object at 0x0000017AC87A7B50>\n",
      "<keras.layers.core.activation.Activation object at 0x0000017AC87E1DE0>\n",
      "<keras.layers.pooling.average_pooling2d.AveragePooling2D object at 0x0000017AC87E3250>\n",
      "<keras.layers.convolutional.conv2d.Conv2D object at 0x0000017AC8792350>\n",
      "<keras.layers.convolutional.conv2d.Conv2D object at 0x0000017AC87A7190>\n",
      "<keras.layers.convolutional.conv2d.Conv2D object at 0x0000017AC87E35B0>\n",
      "<keras.layers.convolutional.conv2d.Conv2D object at 0x0000017AC87E2D70>\n",
      "<keras.layers.normalization.batch_normalization.BatchNormalization object at 0x0000017AC8791DE0>\n",
      "<keras.layers.normalization.batch_normalization.BatchNormalization object at 0x0000017AC87A7AF0>\n",
      "<keras.layers.normalization.batch_normalization.BatchNormalization object at 0x0000017AC87E2C20>\n",
      "<keras.layers.normalization.batch_normalization.BatchNormalization object at 0x0000017AC87E0130>\n",
      "<keras.layers.core.activation.Activation object at 0x0000017AC875BC40>\n",
      "<keras.layers.core.activation.Activation object at 0x0000017AC87A6200>\n",
      "<keras.layers.core.activation.Activation object at 0x0000017AC87E38E0>\n",
      "<keras.layers.core.activation.Activation object at 0x0000017AC87C4AC0>\n",
      "<keras.layers.merging.concatenate.Concatenate object at 0x0000017AC87C4850>\n",
      "<keras.layers.convolutional.conv2d.Conv2D object at 0x0000017AC8802DA0>\n",
      "<keras.layers.normalization.batch_normalization.BatchNormalization object at 0x0000017AC881C8B0>\n",
      "<keras.layers.core.activation.Activation object at 0x0000017AC881EAD0>\n",
      "<keras.layers.convolutional.conv2d.Conv2D object at 0x0000017AC881DF90>\n",
      "<keras.layers.normalization.batch_normalization.BatchNormalization object at 0x0000017AC881EB60>\n",
      "<keras.layers.core.activation.Activation object at 0x0000017AC881DED0>\n",
      "<keras.layers.convolutional.conv2d.Conv2D object at 0x0000017AC87A4490>\n",
      "<keras.layers.convolutional.conv2d.Conv2D object at 0x0000017AC881FAF0>\n",
      "<keras.layers.normalization.batch_normalization.BatchNormalization object at 0x0000017AC87A6FE0>\n",
      "<keras.layers.normalization.batch_normalization.BatchNormalization object at 0x0000017AC881E3B0>\n",
      "<keras.layers.core.activation.Activation object at 0x0000017AC8744790>\n",
      "<keras.layers.core.activation.Activation object at 0x0000017AC881FC40>\n",
      "<keras.layers.convolutional.conv2d.Conv2D object at 0x0000017AC87329E0>\n",
      "<keras.layers.convolutional.conv2d.Conv2D object at 0x0000017AC8839150>\n",
      "<keras.layers.normalization.batch_normalization.BatchNormalization object at 0x0000017AC8801EA0>\n",
      "<keras.layers.normalization.batch_normalization.BatchNormalization object at 0x0000017AC883A020>\n",
      "<keras.layers.core.activation.Activation object at 0x0000017AC8792170>\n",
      "<keras.layers.core.activation.Activation object at 0x0000017AC883BA90>\n",
      "<keras.layers.pooling.average_pooling2d.AveragePooling2D object at 0x0000017AC883BC40>\n",
      "<keras.layers.convolutional.conv2d.Conv2D object at 0x0000017AC87C7EB0>\n",
      "<keras.layers.convolutional.conv2d.Conv2D object at 0x0000017AC88000A0>\n",
      "<keras.layers.convolutional.conv2d.Conv2D object at 0x0000017AC883B0D0>\n",
      "<keras.layers.convolutional.conv2d.Conv2D object at 0x0000017AC87E3310>\n",
      "<keras.layers.normalization.batch_normalization.BatchNormalization object at 0x0000017AC87E11E0>\n",
      "<keras.layers.normalization.batch_normalization.BatchNormalization object at 0x0000017AC88036A0>\n",
      "<keras.layers.normalization.batch_normalization.BatchNormalization object at 0x0000017AC883BA30>\n",
      "<keras.layers.normalization.batch_normalization.BatchNormalization object at 0x0000017AC8851D50>\n",
      "<keras.layers.core.activation.Activation object at 0x0000017AC87A48E0>\n",
      "<keras.layers.core.activation.Activation object at 0x0000017AC8801180>\n",
      "<keras.layers.core.activation.Activation object at 0x0000017AC883BC10>\n",
      "<keras.layers.core.activation.Activation object at 0x0000017AC8852F50>\n",
      "<keras.layers.merging.concatenate.Concatenate object at 0x0000017AC8852D40>\n",
      "<keras.layers.convolutional.conv2d.Conv2D object at 0x0000017AC8838FD0>\n",
      "<keras.layers.normalization.batch_normalization.BatchNormalization object at 0x0000017AC883A8C0>\n",
      "<keras.layers.core.activation.Activation object at 0x0000017AC88530D0>\n",
      "<keras.layers.convolutional.conv2d.Conv2D object at 0x0000017AC8802710>\n",
      "<keras.layers.normalization.batch_normalization.BatchNormalization object at 0x0000017AC881D600>\n",
      "<keras.layers.core.activation.Activation object at 0x0000017AC8790B80>\n",
      "<keras.layers.convolutional.conv2d.Conv2D object at 0x0000017AC8852170>\n",
      "<keras.layers.convolutional.conv2d.Conv2D object at 0x0000017AC87A6D10>\n",
      "<keras.layers.normalization.batch_normalization.BatchNormalization object at 0x0000017AC88528C0>\n",
      "<keras.layers.normalization.batch_normalization.BatchNormalization object at 0x0000017AC881F850>\n",
      "<keras.layers.core.activation.Activation object at 0x0000017AC8850CA0>\n",
      "<keras.layers.core.activation.Activation object at 0x0000017AC8800E80>\n",
      "<keras.layers.convolutional.conv2d.Conv2D object at 0x0000017AC8853C40>\n",
      "<keras.layers.convolutional.conv2d.Conv2D object at 0x0000017AC8881540>\n",
      "<keras.layers.normalization.batch_normalization.BatchNormalization object at 0x0000017AC8852BC0>\n",
      "<keras.layers.normalization.batch_normalization.BatchNormalization object at 0x0000017AC8882410>\n",
      "<keras.layers.core.activation.Activation object at 0x0000017AC883ACE0>\n",
      "<keras.layers.core.activation.Activation object at 0x0000017AC8883E50>\n",
      "<keras.layers.pooling.max_pooling2d.MaxPooling2D object at 0x0000017AC88835B0>\n",
      "<keras.layers.merging.concatenate.Concatenate object at 0x0000017AC8882B30>\n",
      "<keras.layers.convolutional.conv2d.Conv2D object at 0x0000017AC8881600>\n",
      "<keras.layers.normalization.batch_normalization.BatchNormalization object at 0x0000017AC88A2E30>\n",
      "<keras.layers.core.activation.Activation object at 0x0000017AC88A09D0>\n",
      "<keras.layers.convolutional.conv2d.Conv2D object at 0x0000017AC8883670>\n",
      "<keras.layers.convolutional.conv2d.Conv2D object at 0x0000017AC88A07C0>\n",
      "<keras.layers.normalization.batch_normalization.BatchNormalization object at 0x0000017AC888C700>\n",
      "<keras.layers.normalization.batch_normalization.BatchNormalization object at 0x0000017AC88A31F0>\n",
      "<keras.layers.core.activation.Activation object at 0x0000017AC888CA30>\n",
      "<keras.layers.core.activation.Activation object at 0x0000017AC88A32B0>\n",
      "<keras.layers.convolutional.conv2d.Conv2D object at 0x0000017AC888F4C0>\n",
      "<keras.layers.convolutional.conv2d.Conv2D object at 0x0000017AC888FC40>\n",
      "<keras.layers.convolutional.conv2d.Conv2D object at 0x0000017AC88C5510>\n",
      "<keras.layers.convolutional.conv2d.Conv2D object at 0x0000017AC88C7460>\n",
      "<keras.layers.pooling.average_pooling2d.AveragePooling2D object at 0x0000017AC88A05E0>\n",
      "<keras.layers.convolutional.conv2d.Conv2D object at 0x0000017AC88521A0>\n",
      "<keras.layers.normalization.batch_normalization.BatchNormalization object at 0x0000017AC888E410>\n",
      "<keras.layers.normalization.batch_normalization.BatchNormalization object at 0x0000017AC888FC10>\n",
      "<keras.layers.normalization.batch_normalization.BatchNormalization object at 0x0000017AC88C63E0>\n",
      "<keras.layers.normalization.batch_normalization.BatchNormalization object at 0x0000017AC88C64A0>\n",
      "<keras.layers.convolutional.conv2d.Conv2D object at 0x0000017AC88A1C00>\n",
      "<keras.layers.normalization.batch_normalization.BatchNormalization object at 0x0000017AC8882920>\n",
      "<keras.layers.core.activation.Activation object at 0x0000017AC888F910>\n",
      "<keras.layers.core.activation.Activation object at 0x0000017AC888F520>\n",
      "<keras.layers.core.activation.Activation object at 0x0000017AC88C7E20>\n",
      "<keras.layers.core.activation.Activation object at 0x0000017AC88A3040>\n",
      "<keras.layers.normalization.batch_normalization.BatchNormalization object at 0x0000017AC888FB50>\n",
      "<keras.layers.core.activation.Activation object at 0x0000017AC88837F0>\n",
      "<keras.layers.merging.concatenate.Concatenate object at 0x0000017AC88A1C30>\n",
      "<keras.layers.merging.concatenate.Concatenate object at 0x0000017AC88A27A0>\n",
      "<keras.layers.core.activation.Activation object at 0x0000017AC888C160>\n",
      "<keras.layers.merging.concatenate.Concatenate object at 0x0000017AC888D2D0>\n",
      "<keras.layers.convolutional.conv2d.Conv2D object at 0x0000017AC8882E00>\n",
      "<keras.layers.normalization.batch_normalization.BatchNormalization object at 0x0000017AC88E7AF0>\n",
      "<keras.layers.core.activation.Activation object at 0x0000017AC8791090>\n",
      "<keras.layers.convolutional.conv2d.Conv2D object at 0x0000017AC881FB50>\n",
      "<keras.layers.convolutional.conv2d.Conv2D object at 0x0000017AC88F6140>\n",
      "<keras.layers.normalization.batch_normalization.BatchNormalization object at 0x0000017AC8839330>\n",
      "<keras.layers.normalization.batch_normalization.BatchNormalization object at 0x0000017AC88F5ED0>\n",
      "<keras.layers.core.activation.Activation object at 0x0000017AC88818A0>\n",
      "<keras.layers.core.activation.Activation object at 0x0000017AC88F6D40>\n",
      "<keras.layers.convolutional.conv2d.Conv2D object at 0x0000017AC87C4A90>\n",
      "<keras.layers.convolutional.conv2d.Conv2D object at 0x0000017AC88E6CB0>\n",
      "<keras.layers.convolutional.conv2d.Conv2D object at 0x0000017AC88F7700>\n",
      "<keras.layers.convolutional.conv2d.Conv2D object at 0x0000017AC890CD60>\n",
      "<keras.layers.pooling.average_pooling2d.AveragePooling2D object at 0x0000017AC890F8B0>\n",
      "<keras.layers.convolutional.conv2d.Conv2D object at 0x0000017AC8747670>\n",
      "<keras.layers.normalization.batch_normalization.BatchNormalization object at 0x0000017AC88E46D0>\n",
      "<keras.layers.normalization.batch_normalization.BatchNormalization object at 0x0000017AC88E5300>\n",
      "<keras.layers.normalization.batch_normalization.BatchNormalization object at 0x0000017AC88F51E0>\n",
      "<keras.layers.normalization.batch_normalization.BatchNormalization object at 0x0000017AC890DC30>\n",
      "<keras.layers.convolutional.conv2d.Conv2D object at 0x0000017AC890EE60>\n",
      "<keras.layers.normalization.batch_normalization.BatchNormalization object at 0x0000017AC881C2E0>\n",
      "<keras.layers.core.activation.Activation object at 0x0000017AC88E5EA0>\n",
      "<keras.layers.core.activation.Activation object at 0x0000017AC88E7D30>\n",
      "<keras.layers.core.activation.Activation object at 0x0000017AC88F7850>\n",
      "<keras.layers.core.activation.Activation object at 0x0000017AC890F670>\n",
      "<keras.layers.normalization.batch_normalization.BatchNormalization object at 0x0000017AC890D4E0>\n",
      "<keras.layers.core.activation.Activation object at 0x0000017AC881F2E0>\n",
      "<keras.layers.merging.concatenate.Concatenate object at 0x0000017AC88E7EE0>\n",
      "<keras.layers.merging.concatenate.Concatenate object at 0x0000017AC890ECB0>\n",
      "<keras.layers.core.activation.Activation object at 0x0000017AC890EFE0>\n",
      "<keras.layers.merging.concatenate.Concatenate object at 0x0000017AC890FE80>\n",
      "last layer output shape:  (None, 7, 7, 768)\n"
     ]
    }
   ],
   "source": [
    "pre_trained_model = InceptionV3(input_shape=(150, 150, 3),\n",
    "                                include_top=False,\n",
    "                                weights=None)\n",
    "\n",
    "# load pre-trained weights\n",
    "pre_trained_model.load_weights(weights_file)\n",
    "\n",
    "# freeze the layers\n",
    "for layer in pre_trained_model.layers:\n",
    "    print(layer)\n",
    "    layer.trainable = False\n",
    "\n",
    "# pre_trained_model.summary()\n",
    "\n",
    "last_layer = pre_trained_model.get_layer('mixed7')\n",
    "print('last layer output shape: ', last_layer.output_shape)\n",
    "last_output = last_layer.output"
   ]
  },
  {
   "cell_type": "code",
   "execution_count": 41,
   "id": "b7d85676",
   "metadata": {},
   "outputs": [],
   "source": [
    "# Flatten the output layer to 1 dimension\n",
    "x = layers.Flatten()(last_output)\n",
    "# Add a fully connected layer with 1,024 hidden units and ReLU activation\n",
    "x = layers.Dense(1024, activation='relu')(x)\n",
    "# Add a final sigmoid layer for classification\n",
    "x = layers.Dense(1, activation='sigmoid')(x)\n",
    "\n",
    "model = Model(pre_trained_model.input, x)"
   ]
  },
  {
   "cell_type": "code",
   "execution_count": 43,
   "id": "b1352471",
   "metadata": {},
   "outputs": [
    {
     "name": "stderr",
     "output_type": "stream",
     "text": [
      "WARNING:absl:`lr` is deprecated in Keras optimizer, please use `learning_rate` or use the legacy optimizer, e.g.,tf.keras.optimizers.legacy.RMSprop.\n"
     ]
    },
    {
     "name": "stdout",
     "output_type": "stream",
     "text": [
      "Epoch 1/2\n",
      "183/237 [======================>.......] - ETA: 1:15 - loss: 0.4644 - acc: 0.8982"
     ]
    },
    {
     "name": "stderr",
     "output_type": "stream",
     "text": [
      "D:\\anaconda\\envs\\fazal\\lib\\site-packages\\PIL\\TiffImagePlugin.py:866: UserWarning: Truncated File Read\n",
      "  warnings.warn(str(msg))\n"
     ]
    },
    {
     "name": "stdout",
     "output_type": "stream",
     "text": [
      "237/237 [==============================] - 374s 2s/step - loss: 0.3956 - acc: 0.9064 - val_loss: 0.1023 - val_acc: 0.9606\n",
      "Epoch 2/2\n",
      "237/237 [==============================] - 270s 1s/step - loss: 0.1445 - acc: 0.9394 - val_loss: 0.0904 - val_acc: 0.9626\n"
     ]
    }
   ],
   "source": [
    "# compile the model\n",
    "model.compile(optimizer=tf.keras.optimizers.RMSprop(lr=0.0001),\n",
    "              loss='binary_crossentropy',\n",
    "              metrics=['acc'])\n",
    "\n",
    "# train the model (adjust the number of epochs from 1 to improve performance)\n",
    "history = model.fit(\n",
    "            train_generator,\n",
    "            validation_data=validation_generator,\n",
    "            epochs=2,\n",
    "            verbose=1)"
   ]
  },
  {
   "cell_type": "code",
   "execution_count": 47,
   "id": "bc41163b",
   "metadata": {},
   "outputs": [],
   "source": [
    "file_path=\"tmp/weights/\"\n",
    "model.save_weights(file_path)"
   ]
  },
  {
   "cell_type": "code",
   "execution_count": 48,
   "id": "55fe3133",
   "metadata": {},
   "outputs": [
    {
     "data": {
      "text/plain": [
       "<Figure size 640x480 with 0 Axes>"
      ]
     },
     "execution_count": 48,
     "metadata": {},
     "output_type": "execute_result"
    },
    {
     "data": {
      "image/png": "[encoded data removed]",
      "text/plain": [
       "<Figure size 640x480 with 1 Axes>"
      ]
     },
     "metadata": {},
     "output_type": "display_data"
    },
    {
     "data": {
      "text/plain": [
       "<Figure size 640x480 with 0 Axes>"
      ]
     },
     "metadata": {},
     "output_type": "display_data"
    }
   ],
   "source": [
    "%matplotlib inline\n",
    "\n",
    "import matplotlib.image  as mpimg\n",
    "import matplotlib.pyplot as plt\n",
    "\n",
    "#-----------------------------------------------------------\n",
    "# Retrieve a list of list results on training and test data\n",
    "# sets for each training epoch\n",
    "#-----------------------------------------------------------\n",
    "acc=history.history['acc']\n",
    "val_acc=history.history['val_acc']\n",
    "loss=history.history['loss']\n",
    "val_loss=history.history['val_loss']\n",
    "\n",
    "epochs=range(len(acc)) # Get number of epochs\n",
    "\n",
    "#------------------------------------------------\n",
    "# Plot training and validation accuracy per epoch\n",
    "#------------------------------------------------\n",
    "plt.plot(epochs, acc, 'r', \"Training Accuracy\")\n",
    "plt.plot(epochs, val_acc, 'b', \"Validation Accuracy\")\n",
    "plt.title('Training and validation accuracy')\n",
    "plt.figure()"
   ]
  },
  {
   "cell_type": "code",
   "execution_count": 49,
   "id": "7b4dcce4",
   "metadata": {},
   "outputs": [
    {
     "ename": "ModuleNotFoundError",
     "evalue": "No module named 'google.colab'",
     "output_type": "error",
     "traceback": [
      "\u001b[1;31m---------------------------------------------------------------------------\u001b[0m",
      "\u001b[1;31mModuleNotFoundError\u001b[0m                       Traceback (most recent call last)",
      "Cell \u001b[1;32mIn[49], line 2\u001b[0m\n\u001b[0;32m      1\u001b[0m \u001b[38;5;28;01mimport\u001b[39;00m \u001b[38;5;21;01mnumpy\u001b[39;00m \u001b[38;5;28;01mas\u001b[39;00m \u001b[38;5;21;01mnp\u001b[39;00m\n\u001b[1;32m----> 2\u001b[0m \u001b[38;5;28;01mfrom\u001b[39;00m \u001b[38;5;21;01mgoogle\u001b[39;00m\u001b[38;5;21;01m.\u001b[39;00m\u001b[38;5;21;01mcolab\u001b[39;00m \u001b[38;5;28;01mimport\u001b[39;00m files\n\u001b[0;32m      3\u001b[0m \u001b[38;5;28;01mfrom\u001b[39;00m \u001b[38;5;21;01mkeras\u001b[39;00m\u001b[38;5;21;01m.\u001b[39;00m\u001b[38;5;21;01mpreprocessing\u001b[39;00m \u001b[38;5;28;01mimport\u001b[39;00m image\n\u001b[0;32m      5\u001b[0m uploaded \u001b[38;5;241m=\u001b[39m files\u001b[38;5;241m.\u001b[39mupload()\n",
      "\u001b[1;31mModuleNotFoundError\u001b[0m: No module named 'google.colab'"
     ]
    }
   ],
   "source": [
    "import numpy as np\n",
    "from google.colab import files\n",
    "from keras.preprocessing import image\n",
    "\n",
    "uploaded = files.upload()\n",
    "\n",
    "for fn in uploaded.keys():\n",
    " \n",
    "  # predicting images\n",
    "  path = '/content/' + fn\n",
    "  img = image.load_img(path, target_size=(150, 150))\n",
    "  x = image.img_to_array(img)\n",
    "  x = np.expand_dims(x, axis=0)\n",
    "\n",
    "  image_tensor = np.vstack([x])\n",
    "  classes = model.predict(image_tensor)\n",
    "  print(classes)\n",
    "  print(classes[0])\n",
    "  if classes[0]>0.5:\n",
    "    print(fn + \" is a dog\")\n",
    "  else:\n",
    "    print(fn + \" is a cat\")"
   ]
  },
  {
   "cell_type": "code",
   "execution_count": null,
   "id": "4a8a3afc",
   "metadata": {},
   "outputs": [],
   "source": []
  }
 ],
 "metadata": {
  "kernelspec": {
   "display_name": "fazal",
   "language": "python",
   "name": "fazal"
  },
  "language_info": {
   "codemirror_mode": {
    "name": "ipython",
    "version": 3
   },
   "file_extension": ".py",
   "mimetype": "text/x-python",
   "name": "python",
   "nbconvert_exporter": "python",
   "pygments_lexer": "ipython3",
   "version": "3.10.9"
  }
 },
 "nbformat": 4,
 "nbformat_minor": 5
}
