{
  "cells": [
    {
      "cell_type": "code",
      "execution_count": 1,
      "metadata": {
        "id": "Ic6-FRpZp6m3"
      },
      "outputs": [],
      "source": [
        "import tensorflow as tf\n",
        "import numpy as np\n"
      ]
    },
    {
      "cell_type": "code",
      "execution_count": 2,
      "metadata": {
        "colab": {
          "base_uri": "https://localhost:8080/"
        },
        "id": "qsmjgYBew4xV",
        "outputId": "4de729fb-4dab-4a8d-8173-ff17b1749367"
      },
      "outputs": [
        {
          "output_type": "stream",
          "name": "stdout",
          "text": [
            "Mounted at /content/drive/\n"
          ]
        }
      ],
      "source": [
        "import zipfile\n",
        "from google.colab import drive\n",
        "\n",
        "drive.mount('/content/drive/')\n"
      ]
    },
    {
      "cell_type": "code",
      "execution_count": 3,
      "metadata": {
        "id": "FZ5pcpzChu_N"
      },
      "outputs": [],
      "source": [
        "zip_ref = zipfile.ZipFile(\"/content/drive/MyDrive/archive.zip\", 'r')\n",
        "zip_ref.extractall(\"/content/tmp\")\n",
        "zip_ref.close()"
      ]
    },
    {
      "cell_type": "code",
      "execution_count": 4,
      "metadata": {
        "id": "dqTOEeRjrgj8"
      },
      "outputs": [],
      "source": [
        "human_training=\"/content/tmp/human-and-non-human/training_set/training_set/humans\"\n",
        "non_human_training=\"/content/tmp/human-and-non-human/training_set/training_set/non-humans\"\n",
        "human_test=\"/content/tmp/human-and-non-human/test_set/test_set/humans\"\n",
        "non_human_test=\"/content/tmp/human-and-non-human/test_set/test_set/non-humans\"\n",
        "\n"
      ]
    },
    {
      "cell_type": "code",
      "execution_count": 5,
      "metadata": {
        "colab": {
          "base_uri": "https://localhost:8080/"
        },
        "id": "IiOnkZQpru3D",
        "outputId": "e17b5955-e5ac-448f-b5c8-2f12e53a6a1a"
      },
      "outputs": [
        {
          "output_type": "stream",
          "name": "stdout",
          "text": [
            "training_human_data: 4012\n",
            "training_NON_human_data: 4006\n",
            "test_human_data: 1415\n",
            "test_NON_human_data: 1309\n"
          ]
        }
      ],
      "source": [
        "import os #total images length\n",
        "print(\"training_human_data:\",len(os.listdir(human_training)))\n",
        "print(\"training_NON_human_data:\",len(os.listdir(non_human_training)))\n",
        "\n",
        "print(\"test_human_data:\",len(os.listdir(human_test)))\n",
        "\n",
        "\n",
        "print(\"test_NON_human_data:\",len(os.listdir(non_human_test)))\n",
        "\n",
        "\n",
        "\n"
      ]
    },
    {
      "cell_type": "code",
      "execution_count": 6,
      "metadata": {
        "id": "6CiwnQzfoANH"
      },
      "outputs": [],
      "source": [
        "from tensorflow.keras.preprocessing.image import ImageDataGenerator"
      ]
    },
    {
      "cell_type": "code",
      "execution_count": 7,
      "metadata": {
        "colab": {
          "base_uri": "https://localhost:8080/"
        },
        "id": "DydlBNqknz2X",
        "outputId": "ca50b2c9-b18c-4e5b-9685-af7d7a71609c"
      },
      "outputs": [
        {
          "output_type": "stream",
          "name": "stdout",
          "text": [
            "Found 8017 images belonging to 2 classes.\n",
            "Found 2723 images belonging to 2 classes.\n"
          ]
        }
      ],
      "source": [
        "training_dir=\"/content/tmp/human-and-non-human/training_set/training_set/\"\n",
        "test_dir=\"/content/tmp/human-and-non-human/test_set/test_set/\"\n",
        "# Use ImageDataGenerator for data augmentation and normalization\n",
        "train_datagen = ImageDataGenerator(\n",
        "    rescale=1./255,\n",
        "    shear_range=0.2,\n",
        "    zoom_range=0.2,\n",
        "    horizontal_flip=True\n",
        ")\n",
        "\n",
        "test_datagen=ImageDataGenerator(rescale=1./255)\n",
        "\n",
        "train_gen=train_datagen.flow_from_directory(training_dir,class_mode='binary',batch_size=32,target_size=(224,224))\n",
        "test_gen=test_datagen.flow_from_directory(test_dir,class_mode='binary',batch_size=32,target_size=(224,224))\n",
        "\n",
        "\n",
        "\n"
      ]
    },
    {
      "cell_type": "code",
      "execution_count": 8,
      "metadata": {
        "id": "xGOuB3GNrUlA"
      },
      "outputs": [],
      "source": [
        "model = tf.keras.models.Sequential([\n",
        "    tf.keras.layers.Conv2D(32, (3, 3), activation='relu', input_shape=(224, 224, 3)),\n",
        "    tf.keras.layers.MaxPooling2D((2, 2)),\n",
        "    tf.keras.layers.Conv2D(64, (3, 3), activation='relu'),\n",
        "    tf.keras.layers.MaxPooling2D((2, 2)),\n",
        "    tf.keras.layers.Conv2D(128, (3, 3), activation='relu'),\n",
        "    tf.keras.layers.MaxPooling2D((2, 2)),\n",
        "    tf.keras.layers.Flatten(),\n",
        "    tf.keras.layers.Dense(128, activation='relu'),\n",
        "    tf.keras.layers.Dense(1, activation='sigmoid')  # Adjust num_classes based on your dataset\n",
        "])\n",
        "\n",
        "\n",
        "\n",
        "\n"
      ]
    },
    {
      "cell_type": "code",
      "execution_count": 9,
      "metadata": {
        "id": "_9Vt3IgjsXRg",
        "colab": {
          "base_uri": "https://localhost:8080/"
        },
        "outputId": "00a6d783-57cb-478b-9d81-4365aa4c3b6d"
      },
      "outputs": [
        {
          "output_type": "stream",
          "name": "stderr",
          "text": [
            "WARNING:absl:`lr` is deprecated in Keras optimizer, please use `learning_rate` or use the legacy optimizer, e.g.,tf.keras.optimizers.legacy.SGD.\n"
          ]
        }
      ],
      "source": [
        "model.compile(optimizer=tf.keras.optimizers.SGD(lr=0.05),loss='binary_crossentropy',metrics=[\"accuracy\"])"
      ]
    },
    {
      "cell_type": "code",
      "execution_count": 10,
      "metadata": {
        "id": "0k3zDSLBuvHJ"
      },
      "outputs": [],
      "source": [
        "batch_size=32"
      ]
    },
    {
      "cell_type": "code",
      "execution_count": 12,
      "metadata": {
        "colab": {
          "base_uri": "https://localhost:8080/"
        },
        "id": "-IGHLNvLs-rB",
        "outputId": "e01570ae-89fd-4ee4-afba-ed927c242e68"
      },
      "outputs": [
        {
          "output_type": "stream",
          "name": "stdout",
          "text": [
            "Epoch 1/3\n",
            "250/250 [==============================] - 102s 408ms/step - loss: 0.0908 - accuracy: 0.9679 - val_loss: 0.1458 - val_accuracy: 0.9386\n",
            "Epoch 2/3\n",
            "250/250 [==============================] - 103s 413ms/step - loss: 0.0710 - accuracy: 0.9758 - val_loss: 0.1022 - val_accuracy: 0.9585\n",
            "Epoch 3/3\n",
            "250/250 [==============================] - 101s 402ms/step - loss: 0.0610 - accuracy: 0.9791 - val_loss: 0.5038 - val_accuracy: 0.8217\n"
          ]
        }
      ],
      "source": [
        "history = model.fit(\n",
        "    train_gen,\n",
        "    steps_per_epoch=train_gen.samples // batch_size,\n",
        "    epochs=3,\n",
        "    validation_data=test_gen,\n",
        "    validation_steps=test_gen.samples // batch_size\n",
        "\n",
        ")\n"
      ]
    },
    {
      "cell_type": "code",
      "execution_count": 17,
      "metadata": {
        "id": "HAZhDM5gt2Yg"
      },
      "outputs": [],
      "source": [
        "import cv2\n",
        "from tensorflow.keras.preprocessing import image"
      ]
    },
    {
      "cell_type": "code",
      "source": [
        "#uploading image of apple checking for prediction\n",
        "img_path='/content/download.jpg'\n",
        "img = image.load_img(img_path, target_size=(224, 224))\n",
        "img_array = image.img_to_array(img)\n",
        "img_array = np.expand_dims(img_array, axis=0)\n",
        "img_array /= 255.0  # Normalize the pixel value"
      ],
      "metadata": {
        "id": "EeRAax05AD7U"
      },
      "execution_count": 19,
      "outputs": []
    },
    {
      "cell_type": "code",
      "source": [
        "predictions = model.predict(img_array)"
      ],
      "metadata": {
        "colab": {
          "base_uri": "https://localhost:8080/"
        },
        "id": "rIgNDohrAV4z",
        "outputId": "28513d8f-b405-430d-dfae-985c13d3d20c"
      },
      "execution_count": 20,
      "outputs": [
        {
          "output_type": "stream",
          "name": "stdout",
          "text": [
            "1/1 [==============================] - 0s 326ms/step\n"
          ]
        }
      ]
    },
    {
      "cell_type": "code",
      "source": [
        "predictions"
      ],
      "metadata": {
        "colab": {
          "base_uri": "https://localhost:8080/"
        },
        "id": "ztUeksPSBDlD",
        "outputId": "936917f8-c8e8-49be-8a61-0c34ddbc67ac"
      },
      "execution_count": 21,
      "outputs": [
        {
          "output_type": "execute_result",
          "data": {
            "text/plain": [
              "array([[0.9999956]], dtype=float32)"
            ]
          },
          "metadata": {},
          "execution_count": 21
        }
      ]
    },
    {
      "cell_type": "markdown",
      "source": [
        "checking model for actual image of human  from google"
      ],
      "metadata": {
        "id": "nVSD6LxfBajD"
      }
    },
    {
      "cell_type": "code",
      "source": [
        "#uploading image of apple checking for prediction\n",
        "img_path='/content/download (1).jpg'\n",
        "img = image.load_img(img_path, target_size=(224, 224))\n",
        "img_array = image.img_to_array(img)\n",
        "img_array = np.expand_dims(img_array, axis=0)\n",
        "img_array /= 255.0  # Normalize the pixel value"
      ],
      "metadata": {
        "id": "nsFOPuZyBgeS"
      },
      "execution_count": 22,
      "outputs": []
    },
    {
      "cell_type": "code",
      "source": [
        "predictions = model.predict(img_array)\n",
        "predictions\n"
      ],
      "metadata": {
        "colab": {
          "base_uri": "https://localhost:8080/"
        },
        "id": "1GveurePBltL",
        "outputId": "02c3ec3c-1b74-4484-a00b-8547674a44f2"
      },
      "execution_count": 23,
      "outputs": [
        {
          "output_type": "stream",
          "name": "stdout",
          "text": [
            "1/1 [==============================] - 0s 18ms/step\n"
          ]
        },
        {
          "output_type": "execute_result",
          "data": {
            "text/plain": [
              "array([[0.9986547]], dtype=float32)"
            ]
          },
          "metadata": {},
          "execution_count": 23
        }
      ]
    },
    {
      "cell_type": "code",
      "source": [],
      "metadata": {
        "id": "4eeJj130BpZ6"
      },
      "execution_count": null,
      "outputs": []
    }
  ],
  "metadata": {
    "colab": {
      "provenance": [],
      "gpuType": "T4"
    },
    "kernelspec": {
      "display_name": "Python 3",
      "name": "python3"
    },
    "language_info": {
      "name": "python"
    },
    "accelerator": "GPU"
  },
  "nbformat": 4,
  "nbformat_minor": 0
}