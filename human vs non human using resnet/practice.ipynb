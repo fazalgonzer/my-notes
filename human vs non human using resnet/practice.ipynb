{
  "cells": [
    {
      "cell_type": "code",
      "execution_count": 1,
      "metadata": {
        "id": "Ic6-FRpZp6m3"
      },
      "outputs": [],
      "source": [
        "import tensorflow as tf\n",
        "import numpy as np\n",
        "import tensorflow_datasets as tfds\n",
        "from tensorflow.keras.applications import resnet50\n",
        "from tensorflow.keras.applications.resnet50 import ResNet50"
      ]
    },
    {
      "cell_type": "code",
      "execution_count": 2,
      "metadata": {
        "colab": {
          "base_uri": "https://localhost:8080/"
        },
        "id": "qsmjgYBew4xV",
        "outputId": "81466c06-699e-4401-d51a-56c5a6f50530"
      },
      "outputs": [
        {
          "output_type": "stream",
          "name": "stdout",
          "text": [
            "Mounted at /content/drive/\n"
          ]
        }
      ],
      "source": [
        "import zipfile\n",
        "from google.colab import drive\n",
        "\n",
        "drive.mount('/content/drive/')\n"
      ]
    },
    {
      "cell_type": "code",
      "execution_count": 3,
      "metadata": {
        "id": "FZ5pcpzChu_N"
      },
      "outputs": [],
      "source": [
        "zip_ref = zipfile.ZipFile(\"/content/drive/MyDrive/archive.zip\", 'r')\n",
        "zip_ref.extractall(\"/content/tmp\")\n",
        "zip_ref.close()"
      ]
    },
    {
      "cell_type": "code",
      "execution_count": 4,
      "metadata": {
        "id": "dqTOEeRjrgj8"
      },
      "outputs": [],
      "source": [
        "human_training=\"/content/tmp/human-and-non-human/training_set/training_set/humans\"\n",
        "non_human_training=\"/content/tmp/human-and-non-human/training_set/training_set/non-humans\"\n",
        "human_test=\"/content/tmp/human-and-non-human/test_set/test_set/humans\"\n",
        "non_human_test=\"/content/tmp/human-and-non-human/test_set/test_set/non-humans\"\n",
        "\n"
      ]
    },
    {
      "cell_type": "code",
      "execution_count": 5,
      "metadata": {
        "colab": {
          "base_uri": "https://localhost:8080/"
        },
        "id": "IiOnkZQpru3D",
        "outputId": "1b2771f5-50f9-47c7-cb0d-711b7140747f"
      },
      "outputs": [
        {
          "output_type": "stream",
          "name": "stdout",
          "text": [
            "training_human_data: 4012\n",
            "training_NON_human_data: 4006\n",
            "test_human_data: 1415\n",
            "test_NON_human_data: 1309\n"
          ]
        }
      ],
      "source": [
        "import os #total images length\n",
        "print(\"training_human_data:\",len(os.listdir(human_training)))\n",
        "print(\"training_NON_human_data:\",len(os.listdir(non_human_training)))\n",
        "\n",
        "print(\"test_human_data:\",len(os.listdir(human_test)))\n",
        "\n",
        "\n",
        "print(\"test_NON_human_data:\",len(os.listdir(non_human_test)))\n",
        "\n",
        "\n",
        "\n"
      ]
    },
    {
      "cell_type": "code",
      "execution_count": 7,
      "metadata": {
        "id": "6CiwnQzfoANH"
      },
      "outputs": [],
      "source": [
        "from tensorflow.keras.preprocessing.image import ImageDataGenerator"
      ]
    },
    {
      "cell_type": "code",
      "execution_count": 8,
      "metadata": {
        "colab": {
          "base_uri": "https://localhost:8080/"
        },
        "id": "DydlBNqknz2X",
        "outputId": "8b405e97-6ac9-4e42-c48a-0f9658dc3fbd"
      },
      "outputs": [
        {
          "output_type": "stream",
          "name": "stdout",
          "text": [
            "Found 8017 images belonging to 2 classes.\n",
            "Found 2723 images belonging to 2 classes.\n"
          ]
        }
      ],
      "source": [
        "training_dir=\"/content/tmp/human-and-non-human/training_set/training_set/\"\n",
        "test_dir=\"/content/tmp/human-and-non-human/test_set/test_set/\"\n",
        "# Use ImageDataGenerator for data augmentation and normalization\n",
        "train_datagen = ImageDataGenerator(\n",
        "    rescale=1./255,\n",
        "    shear_range=0.2,\n",
        "    zoom_range=0.2,\n",
        "    horizontal_flip=True\n",
        ")\n",
        "\n",
        "test_datagen=ImageDataGenerator(rescale=1./255)\n",
        "\n",
        "train_gen=train_datagen.flow_from_directory(training_dir,class_mode='binary',batch_size=32,target_size=(224,224))\n",
        "test_gen=test_datagen.flow_from_directory(test_dir,class_mode='binary',batch_size=32,target_size=(224,224))\n",
        "\n",
        "\n",
        "\n"
      ]
    },
    {
      "cell_type": "code",
      "execution_count": 9,
      "metadata": {
        "colab": {
          "base_uri": "https://localhost:8080/"
        },
        "id": "TMcJJ5Xwn0VP",
        "outputId": "a2b30adb-4913-44f5-9100-6a1b9217ad69"
      },
      "outputs": [
        {
          "output_type": "stream",
          "name": "stdout",
          "text": [
            "Downloading data from https://storage.googleapis.com/tensorflow/keras-applications/resnet/resnet50_weights_tf_dim_ordering_tf_kernels_notop.h5\n",
            "94765736/94765736 [==============================] - 0s 0us/step\n"
          ]
        }
      ],
      "source": [
        "resnet50=tf.keras.applications.resnet50.ResNet50(\n",
        "    include_top=False,\n",
        "    weights='imagenet',\n",
        "\n",
        "    input_shape=(224,224,3),\n",
        "\n",
        "    classes=1,\n",
        "\n",
        ")\n",
        "for layer in resnet50.layers:\n",
        "  layer.trainable=False"
      ]
    },
    {
      "cell_type": "code",
      "execution_count": 10,
      "metadata": {
        "id": "xGOuB3GNrUlA"
      },
      "outputs": [],
      "source": [
        "model=tf.keras.Sequential([\n",
        "    resnet50,\n",
        "    tf.keras.layers.GlobalAveragePooling2D(),\n",
        "    tf.keras.layers.Flatten(),\n",
        "    tf.keras.layers.Dense(128,activation='relu'),\n",
        "    tf.keras.layers.Dropout(.2),\n",
        "    tf.keras.layers.Dense(1,activation='sigmoid')\n",
        "\n",
        "\n",
        "\n",
        "\n",
        "])"
      ]
    },
    {
      "cell_type": "code",
      "execution_count": 11,
      "metadata": {
        "id": "_9Vt3IgjsXRg"
      },
      "outputs": [],
      "source": [
        "model.compile(optimizer=tf.keras.optimizers.SGD(),loss='binary_crossentropy',metrics=[\"accuracy\"])"
      ]
    },
    {
      "cell_type": "code",
      "execution_count": 12,
      "metadata": {
        "id": "0k3zDSLBuvHJ"
      },
      "outputs": [],
      "source": [
        "batch_size=32"
      ]
    },
    {
      "cell_type": "code",
      "execution_count": 13,
      "metadata": {
        "colab": {
          "base_uri": "https://localhost:8080/"
        },
        "id": "-IGHLNvLs-rB",
        "outputId": "5320030f-5a40-4cc2-e413-4bea26c2bcbf"
      },
      "outputs": [
        {
          "output_type": "stream",
          "name": "stdout",
          "text": [
            "Epoch 1/10\n",
            "250/250 [==============================] - 127s 470ms/step - loss: 0.6920 - accuracy: 0.5568 - val_loss: 0.6942 - val_accuracy: 0.4607\n",
            "Epoch 2/10\n",
            "250/250 [==============================] - 118s 471ms/step - loss: 0.6517 - accuracy: 0.6084 - val_loss: 0.6764 - val_accuracy: 0.5103\n",
            "Epoch 3/10\n",
            "250/250 [==============================] - 117s 467ms/step - loss: 0.6335 - accuracy: 0.6217 - val_loss: 0.6743 - val_accuracy: 0.5529\n",
            "Epoch 4/10\n",
            "250/250 [==============================] - 116s 464ms/step - loss: 0.6230 - accuracy: 0.6358 - val_loss: 0.6803 - val_accuracy: 0.5162\n",
            "Epoch 5/10\n",
            "250/250 [==============================] - 116s 465ms/step - loss: 0.6094 - accuracy: 0.6552 - val_loss: 0.6520 - val_accuracy: 0.5864\n",
            "Epoch 6/10\n",
            "250/250 [==============================] - 115s 459ms/step - loss: 0.6006 - accuracy: 0.6590 - val_loss: 0.6573 - val_accuracy: 0.6096\n",
            "Epoch 7/10\n",
            "250/250 [==============================] - 118s 474ms/step - loss: 0.6017 - accuracy: 0.6562 - val_loss: 0.6510 - val_accuracy: 0.6162\n",
            "Epoch 8/10\n",
            "250/250 [==============================] - 114s 456ms/step - loss: 0.5930 - accuracy: 0.6640 - val_loss: 0.6425 - val_accuracy: 0.5978\n",
            "Epoch 9/10\n",
            "250/250 [==============================] - 118s 470ms/step - loss: 0.5874 - accuracy: 0.6775 - val_loss: 0.6219 - val_accuracy: 0.6239\n",
            "Epoch 10/10\n",
            "250/250 [==============================] - 112s 447ms/step - loss: 0.5728 - accuracy: 0.6899 - val_loss: 0.6210 - val_accuracy: 0.6313\n"
          ]
        }
      ],
      "source": [
        "history = model.fit(\n",
        "    train_gen,\n",
        "    steps_per_epoch=train_gen.samples // batch_size,\n",
        "    epochs=10,\n",
        "    validation_data=test_gen,\n",
        "    validation_steps=test_gen.samples // batch_size\n",
        "\n",
        ")\n"
      ]
    },
    {
      "cell_type": "code",
      "execution_count": null,
      "metadata": {
        "id": "HAZhDM5gt2Yg"
      },
      "outputs": [],
      "source": []
    }
  ],
  "metadata": {
    "colab": {
      "provenance": [],
      "gpuType": "T4"
    },
    "kernelspec": {
      "display_name": "Python 3",
      "name": "python3"
    },
    "language_info": {
      "name": "python"
    },
    "accelerator": "GPU"
  },
  "nbformat": 4,
  "nbformat_minor": 0
}